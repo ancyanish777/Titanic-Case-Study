{
 "cells": [
  {
   "cell_type": "code",
   "execution_count": 4,
   "metadata": {},
   "outputs": [],
   "source": [
    "import pandas as pd\n",
    "import numpy as np\n",
    "import matplotlib.pyplot as plt"
   ]
  },
  {
   "cell_type": "code",
   "execution_count": null,
   "metadata": {},
   "outputs": [],
   "source": []
  },
  {
   "cell_type": "code",
   "execution_count": 5,
   "metadata": {},
   "outputs": [
    {
     "data": {
      "text/plain": [
       "'C:\\\\Users\\\\Me'"
      ]
     },
     "execution_count": 5,
     "metadata": {},
     "output_type": "execute_result"
    }
   ],
   "source": [
    "import os\n",
    "os.getcwd()"
   ]
  },
  {
   "cell_type": "code",
   "execution_count": 6,
   "metadata": {},
   "outputs": [],
   "source": [
    "#Q-1 load dataset on python\n",
    "df = pd.read_csv(r\"D:\\Ancy Notes\\Data Science\\Titanic.csv\")"
   ]
  },
  {
   "cell_type": "code",
   "execution_count": 7,
   "metadata": {},
   "outputs": [
    {
     "data": {
      "text/html": [
       "<div>\n",
       "<style scoped>\n",
       "    .dataframe tbody tr th:only-of-type {\n",
       "        vertical-align: middle;\n",
       "    }\n",
       "\n",
       "    .dataframe tbody tr th {\n",
       "        vertical-align: top;\n",
       "    }\n",
       "\n",
       "    .dataframe thead th {\n",
       "        text-align: right;\n",
       "    }\n",
       "</style>\n",
       "<table border=\"1\" class=\"dataframe\">\n",
       "  <thead>\n",
       "    <tr style=\"text-align: right;\">\n",
       "      <th></th>\n",
       "      <th>PassengerId</th>\n",
       "      <th>Survived</th>\n",
       "      <th>Pclass</th>\n",
       "      <th>Name</th>\n",
       "      <th>Sex</th>\n",
       "      <th>Age</th>\n",
       "      <th>SibSp</th>\n",
       "      <th>Parch</th>\n",
       "      <th>Ticket</th>\n",
       "      <th>Fare</th>\n",
       "      <th>Cabin</th>\n",
       "      <th>Embarked</th>\n",
       "    </tr>\n",
       "  </thead>\n",
       "  <tbody>\n",
       "    <tr>\n",
       "      <th>0</th>\n",
       "      <td>1</td>\n",
       "      <td>0</td>\n",
       "      <td>3</td>\n",
       "      <td>Braund, Mr. Owen Harris</td>\n",
       "      <td>male</td>\n",
       "      <td>22.0</td>\n",
       "      <td>1</td>\n",
       "      <td>0</td>\n",
       "      <td>A/5 21171</td>\n",
       "      <td>7.2500</td>\n",
       "      <td>NaN</td>\n",
       "      <td>S</td>\n",
       "    </tr>\n",
       "    <tr>\n",
       "      <th>1</th>\n",
       "      <td>2</td>\n",
       "      <td>1</td>\n",
       "      <td>1</td>\n",
       "      <td>Cumings, Mrs. John Bradley (Florence Briggs Th...</td>\n",
       "      <td>female</td>\n",
       "      <td>38.0</td>\n",
       "      <td>1</td>\n",
       "      <td>0</td>\n",
       "      <td>PC 17599</td>\n",
       "      <td>71.2833</td>\n",
       "      <td>C85</td>\n",
       "      <td>C</td>\n",
       "    </tr>\n",
       "    <tr>\n",
       "      <th>2</th>\n",
       "      <td>3</td>\n",
       "      <td>1</td>\n",
       "      <td>3</td>\n",
       "      <td>Heikkinen, Miss. Laina</td>\n",
       "      <td>female</td>\n",
       "      <td>26.0</td>\n",
       "      <td>0</td>\n",
       "      <td>0</td>\n",
       "      <td>STON/O2. 3101282</td>\n",
       "      <td>7.9250</td>\n",
       "      <td>NaN</td>\n",
       "      <td>S</td>\n",
       "    </tr>\n",
       "    <tr>\n",
       "      <th>3</th>\n",
       "      <td>4</td>\n",
       "      <td>1</td>\n",
       "      <td>1</td>\n",
       "      <td>Futrelle, Mrs. Jacques Heath (Lily May Peel)</td>\n",
       "      <td>female</td>\n",
       "      <td>35.0</td>\n",
       "      <td>1</td>\n",
       "      <td>0</td>\n",
       "      <td>113803</td>\n",
       "      <td>53.1000</td>\n",
       "      <td>C123</td>\n",
       "      <td>S</td>\n",
       "    </tr>\n",
       "    <tr>\n",
       "      <th>4</th>\n",
       "      <td>5</td>\n",
       "      <td>0</td>\n",
       "      <td>3</td>\n",
       "      <td>Allen, Mr. William Henry</td>\n",
       "      <td>male</td>\n",
       "      <td>35.0</td>\n",
       "      <td>0</td>\n",
       "      <td>0</td>\n",
       "      <td>373450</td>\n",
       "      <td>8.0500</td>\n",
       "      <td>NaN</td>\n",
       "      <td>S</td>\n",
       "    </tr>\n",
       "    <tr>\n",
       "      <th>...</th>\n",
       "      <td>...</td>\n",
       "      <td>...</td>\n",
       "      <td>...</td>\n",
       "      <td>...</td>\n",
       "      <td>...</td>\n",
       "      <td>...</td>\n",
       "      <td>...</td>\n",
       "      <td>...</td>\n",
       "      <td>...</td>\n",
       "      <td>...</td>\n",
       "      <td>...</td>\n",
       "      <td>...</td>\n",
       "    </tr>\n",
       "    <tr>\n",
       "      <th>886</th>\n",
       "      <td>887</td>\n",
       "      <td>0</td>\n",
       "      <td>2</td>\n",
       "      <td>Montvila, Rev. Juozas</td>\n",
       "      <td>male</td>\n",
       "      <td>27.0</td>\n",
       "      <td>0</td>\n",
       "      <td>0</td>\n",
       "      <td>211536</td>\n",
       "      <td>13.0000</td>\n",
       "      <td>NaN</td>\n",
       "      <td>S</td>\n",
       "    </tr>\n",
       "    <tr>\n",
       "      <th>887</th>\n",
       "      <td>888</td>\n",
       "      <td>1</td>\n",
       "      <td>1</td>\n",
       "      <td>Graham, Miss. Margaret Edith</td>\n",
       "      <td>female</td>\n",
       "      <td>19.0</td>\n",
       "      <td>0</td>\n",
       "      <td>0</td>\n",
       "      <td>112053</td>\n",
       "      <td>30.0000</td>\n",
       "      <td>B42</td>\n",
       "      <td>S</td>\n",
       "    </tr>\n",
       "    <tr>\n",
       "      <th>888</th>\n",
       "      <td>889</td>\n",
       "      <td>0</td>\n",
       "      <td>3</td>\n",
       "      <td>Johnston, Miss. Catherine Helen \"Carrie\"</td>\n",
       "      <td>female</td>\n",
       "      <td>NaN</td>\n",
       "      <td>1</td>\n",
       "      <td>2</td>\n",
       "      <td>W./C. 6607</td>\n",
       "      <td>23.4500</td>\n",
       "      <td>NaN</td>\n",
       "      <td>S</td>\n",
       "    </tr>\n",
       "    <tr>\n",
       "      <th>889</th>\n",
       "      <td>890</td>\n",
       "      <td>1</td>\n",
       "      <td>1</td>\n",
       "      <td>Behr, Mr. Karl Howell</td>\n",
       "      <td>male</td>\n",
       "      <td>26.0</td>\n",
       "      <td>0</td>\n",
       "      <td>0</td>\n",
       "      <td>111369</td>\n",
       "      <td>30.0000</td>\n",
       "      <td>C148</td>\n",
       "      <td>C</td>\n",
       "    </tr>\n",
       "    <tr>\n",
       "      <th>890</th>\n",
       "      <td>891</td>\n",
       "      <td>0</td>\n",
       "      <td>3</td>\n",
       "      <td>Dooley, Mr. Patrick</td>\n",
       "      <td>male</td>\n",
       "      <td>32.0</td>\n",
       "      <td>0</td>\n",
       "      <td>0</td>\n",
       "      <td>370376</td>\n",
       "      <td>7.7500</td>\n",
       "      <td>NaN</td>\n",
       "      <td>Q</td>\n",
       "    </tr>\n",
       "  </tbody>\n",
       "</table>\n",
       "<p>891 rows × 12 columns</p>\n",
       "</div>"
      ],
      "text/plain": [
       "     PassengerId  Survived  Pclass  \\\n",
       "0              1         0       3   \n",
       "1              2         1       1   \n",
       "2              3         1       3   \n",
       "3              4         1       1   \n",
       "4              5         0       3   \n",
       "..           ...       ...     ...   \n",
       "886          887         0       2   \n",
       "887          888         1       1   \n",
       "888          889         0       3   \n",
       "889          890         1       1   \n",
       "890          891         0       3   \n",
       "\n",
       "                                                  Name     Sex   Age  SibSp  \\\n",
       "0                              Braund, Mr. Owen Harris    male  22.0      1   \n",
       "1    Cumings, Mrs. John Bradley (Florence Briggs Th...  female  38.0      1   \n",
       "2                               Heikkinen, Miss. Laina  female  26.0      0   \n",
       "3         Futrelle, Mrs. Jacques Heath (Lily May Peel)  female  35.0      1   \n",
       "4                             Allen, Mr. William Henry    male  35.0      0   \n",
       "..                                                 ...     ...   ...    ...   \n",
       "886                              Montvila, Rev. Juozas    male  27.0      0   \n",
       "887                       Graham, Miss. Margaret Edith  female  19.0      0   \n",
       "888           Johnston, Miss. Catherine Helen \"Carrie\"  female   NaN      1   \n",
       "889                              Behr, Mr. Karl Howell    male  26.0      0   \n",
       "890                                Dooley, Mr. Patrick    male  32.0      0   \n",
       "\n",
       "     Parch            Ticket     Fare Cabin Embarked  \n",
       "0        0         A/5 21171   7.2500   NaN        S  \n",
       "1        0          PC 17599  71.2833   C85        C  \n",
       "2        0  STON/O2. 3101282   7.9250   NaN        S  \n",
       "3        0            113803  53.1000  C123        S  \n",
       "4        0            373450   8.0500   NaN        S  \n",
       "..     ...               ...      ...   ...      ...  \n",
       "886      0            211536  13.0000   NaN        S  \n",
       "887      0            112053  30.0000   B42        S  \n",
       "888      2        W./C. 6607  23.4500   NaN        S  \n",
       "889      0            111369  30.0000  C148        C  \n",
       "890      0            370376   7.7500   NaN        Q  \n",
       "\n",
       "[891 rows x 12 columns]"
      ]
     },
     "execution_count": 7,
     "metadata": {},
     "output_type": "execute_result"
    }
   ],
   "source": [
    "df"
   ]
  },
  {
   "cell_type": "code",
   "execution_count": null,
   "metadata": {},
   "outputs": [],
   "source": [
    "#Q-2\n",
    "df.head(5)"
   ]
  },
  {
   "cell_type": "code",
   "execution_count": null,
   "metadata": {},
   "outputs": [],
   "source": [
    "df.tail(5)"
   ]
  },
  {
   "cell_type": "code",
   "execution_count": null,
   "metadata": {},
   "outputs": [],
   "source": [
    "#Q-3\n",
    "df.shape"
   ]
  },
  {
   "cell_type": "code",
   "execution_count": null,
   "metadata": {},
   "outputs": [],
   "source": [
    "#Q-6\n",
    "df.info()"
   ]
  },
  {
   "cell_type": "code",
   "execution_count": null,
   "metadata": {},
   "outputs": [],
   "source": [
    "df.describe()"
   ]
  },
  {
   "cell_type": "code",
   "execution_count": null,
   "metadata": {},
   "outputs": [],
   "source": [
    "#Q-4\n",
    "df.columns"
   ]
  },
  {
   "cell_type": "code",
   "execution_count": null,
   "metadata": {},
   "outputs": [],
   "source": [
    "#q-5\n",
    "df.dtypes"
   ]
  },
  {
   "cell_type": "code",
   "execution_count": null,
   "metadata": {},
   "outputs": [],
   "source": [
    "#Q-7\n",
    "df[\"Survived\"].value_counts()"
   ]
  },
  {
   "cell_type": "code",
   "execution_count": null,
   "metadata": {},
   "outputs": [],
   "source": [
    "a = df.Survived.value_counts()\n",
    "a"
   ]
  },
  {
   "cell_type": "code",
   "execution_count": null,
   "metadata": {},
   "outputs": [],
   "source": [
    "plt.pie(a,colors=[\"red\",\"green\"],labels=[\"Not Survived\" ,\"Survived\"], autopct=\"%0.2f%%\",shadow=True,explode=(0,0.1))\n",
    "plt.title(\"Survived Counts\")\n",
    "plt.legend(loc=\"lower left\")\n",
    "plt.show()"
   ]
  },
  {
   "cell_type": "markdown",
   "metadata": {},
   "source": [
    "# Q-8: Find out how many female passengers travelled in first class, second class and third class"
   ]
  },
  {
   "cell_type": "code",
   "execution_count": null,
   "metadata": {},
   "outputs": [],
   "source": [
    "female_p = df[(df[\"Sex\"]==\"female\")].Pclass.value_counts()\n",
    "female_p"
   ]
  },
  {
   "cell_type": "code",
   "execution_count": null,
   "metadata": {},
   "outputs": [],
   "source": [
    "plt.pie(female_p,colors=[\"green\",\"red\",\"blue\"],labels=[\"3rd class\" ,\"1st class\",\"2nd class\"], autopct=\"%0.2f%%\",shadow=True,explode=(0.1,0,0))\n",
    "plt.title(\"female Passengers had travelled in first class ,second class and third class \")\n",
    "plt.legend(loc=\"lower left\")\n",
    "plt.show()"
   ]
  },
  {
   "cell_type": "markdown",
   "metadata": {},
   "source": [
    "# Q-9 Find out how many female passengers have survivied and their age<30\n"
   ]
  },
  {
   "cell_type": "code",
   "execution_count": 13,
   "metadata": {},
   "outputs": [
    {
     "data": {
      "text/plain": [
       "1    105\n",
       "0     42\n",
       "Name: Survived, dtype: int64"
      ]
     },
     "execution_count": 13,
     "metadata": {},
     "output_type": "execute_result"
    }
   ],
   "source": [
    "t = df[(df[\"Sex\"]==\"female\") & (df[\"Age\"]<30)].Survived.value_counts()\n",
    "t"
   ]
  },
  {
   "cell_type": "code",
   "execution_count": 14,
   "metadata": {},
   "outputs": [
    {
     "data": {
      "image/png": "[encoded data removed]",
      "text/plain": [
       "<Figure size 432x288 with 1 Axes>"
      ]
     },
     "metadata": {},
     "output_type": "display_data"
    }
   ],
   "source": [
    "plt.pie(t,colors=[\"red\",\"green\"],labels=[\"Not Survived\" ,\"Survived\"], autopct=\"%0.2f%%\",shadow=True,explode=(0,0.1))\n",
    "plt.title(\"Passenger is female and her age is below 30\")\n",
    "plt.legend(loc=\"lower left\")\n",
    "plt.show()"
   ]
  },
  {
   "cell_type": "markdown",
   "metadata": {},
   "source": [
    "# Q-10 Find out how many male passengers had Survived and his age >40, show on pie chart"
   ]
  },
  {
   "cell_type": "code",
   "execution_count": 19,
   "metadata": {},
   "outputs": [],
   "source": [
    "t = df[(df[\"Sex\"]==\"male\") & (df[\"Age\"]>40)].Survived.value_counts()"
   ]
  },
  {
   "cell_type": "code",
   "execution_count": 20,
   "metadata": {},
   "outputs": [
    {
     "data": {
      "text/plain": [
       "0    84\n",
       "1    18\n",
       "Name: Survived, dtype: int64"
      ]
     },
     "execution_count": 20,
     "metadata": {},
     "output_type": "execute_result"
    }
   ],
   "source": [
    "t"
   ]
  },
  {
   "cell_type": "code",
   "execution_count": 16,
   "metadata": {},
   "outputs": [
    {
     "data": {
      "image/png": "[encoded data removed]",
      "text/plain": [
       "<Figure size 432x288 with 1 Axes>"
      ]
     },
     "metadata": {},
     "output_type": "display_data"
    }
   ],
   "source": [
    "plt.pie(t,colors=[\"red\",\"green\"],labels=[\"Not Survived\" ,\"Survived\"], autopct=\"%0.2f%%\",shadow=True,explode=(0,0.1))\n",
    "plt.title(\"Passenger is male and his age is above 40\")\n",
    "plt.legend(loc=\"lower left\")\n",
    "plt.show()"
   ]
  },
  {
   "cell_type": "markdown",
   "metadata": {},
   "source": [
    "# Q-11: SHOW AGE WITH 20 BINS"
   ]
  },
  {
   "cell_type": "markdown",
   "metadata": {},
   "source": [
    "# plt.figure(figsize= (10,5))\n",
    "plt.hist(df[\"Age\"],bins=20,edgecolor=\"black\",color=\"red\")\n",
    "plt.grid()\n",
    "plt.xlabel(\"Age\")\n",
    "plt.ylabel(\"Age Frequency\")\n",
    "plt.xticks(range(0,80,4))\n",
    "plt.show()"
   ]
  },
  {
   "cell_type": "markdown",
   "metadata": {},
   "source": [
    "# 12 - Show age frequency with survived and not survived (Histogram)"
   ]
  },
  {
   "cell_type": "code",
   "execution_count": 22,
   "metadata": {
    "scrolled": true
   },
   "outputs": [
    {
     "data": {
      "text/plain": [
       "1      38.0\n",
       "2      26.0\n",
       "3      35.0\n",
       "8      27.0\n",
       "9      14.0\n",
       "       ... \n",
       "875    15.0\n",
       "879    56.0\n",
       "880    25.0\n",
       "887    19.0\n",
       "889    26.0\n",
       "Name: Age, Length: 342, dtype: float64"
      ]
     },
     "execution_count": 22,
     "metadata": {},
     "output_type": "execute_result"
    }
   ],
   "source": [
    "df[df.Survived==1][\"Age\"]"
   ]
  },
  {
   "cell_type": "code",
   "execution_count": 35,
   "metadata": {},
   "outputs": [
    {
     "data": {
      "text/plain": [
       "Text(0, 0.5, 'Age Frequency')"
      ]
     },
     "execution_count": 35,
     "metadata": {},
     "output_type": "execute_result"
    },
    {
     "data": {
      "image/png": "[encoded data removed]",
      "text/plain": [
       "<Figure size 864x360 with 2 Axes>"
      ]
     },
     "metadata": {
      "needs_background": "light"
     },
     "output_type": "display_data"
    }
   ],
   "source": [
    "fig, axs= plt.subplots(1,2,figsize=(12,5))\n",
    "\n",
    "\n",
    "axs[0].hist(df[df.Survived==1] [\"Age\"],color =\"Green\",edgecolor = \"black\",bins =10)\n",
    "axs[0].set_title(\"Survived Passenger Age Frequency\")\n",
    "axs[0].set_xlabel(\"Age\")\n",
    "axs[0].set_ylabel(\"Age Frequency\")\n",
    "\n",
    "\n",
    "axs[1].hist(df[df.Survived==0] [\"Age\"],color =\"Blue\",edgecolor = \"black\",bins=10)\n",
    "axs[1].set_title(\"Not Survived Passenger Age Frequency\")\n",
    "axs[1].set_xlabel(\"Age\")\n",
    "axs[1].set_ylabel(\"Age Frequency\")\n",
    "\n",
    "\n",
    "\n"
   ]
  },
  {
   "cell_type": "code",
   "execution_count": 24,
   "metadata": {},
   "outputs": [
    {
     "data": {
      "image/png": "[encoded data removed]",
      "text/plain": [
       "<Figure size 432x288 with 1 Axes>"
      ]
     },
     "metadata": {
      "needs_background": "light"
     },
     "output_type": "display_data"
    }
   ],
   "source": [
    "plt.hist(df[df.Survived==0] [\"Age\"])\n",
    "plt.title(\"Not Survived Passenger Age Frequency\")\n",
    "plt.show()"
   ]
  },
  {
   "cell_type": "markdown",
   "metadata": {},
   "source": [
    "# 13 :Show Bar graph for Survived with male, female, class"
   ]
  },
  {
   "cell_type": "code",
   "execution_count": 16,
   "metadata": {},
   "outputs": [],
   "source": [
    "import seaborn as sns"
   ]
  },
  {
   "cell_type": "code",
   "execution_count": 42,
   "metadata": {},
   "outputs": [
    {
     "data": {
      "image/png": "[encoded data removed]",
      "text/plain": [
       "<Figure size 432x288 with 1 Axes>"
      ]
     },
     "metadata": {
      "needs_background": "light"
     },
     "output_type": "display_data"
    }
   ],
   "source": [
    "sns.countplot(x=\"Pclass\", hue=\"Sex\",data=df[df.Survived==1])\n",
    "plt.show()"
   ]
  },
  {
   "cell_type": "markdown",
   "metadata": {},
   "source": [
    "# 14.How many passengers are travelled in different classes show in Bar graph"
   ]
  },
  {
   "cell_type": "code",
   "execution_count": 45,
   "metadata": {},
   "outputs": [
    {
     "data": {
      "text/plain": [
       "3    491\n",
       "1    216\n",
       "2    184\n",
       "Name: Pclass, dtype: int64"
      ]
     },
     "execution_count": 45,
     "metadata": {},
     "output_type": "execute_result"
    }
   ],
   "source": [
    "a=df[\"Pclass\"].value_counts()\n",
    "a"
   ]
  },
  {
   "cell_type": "code",
   "execution_count": 50,
   "metadata": {},
   "outputs": [],
   "source": [
    "value = [i for i in a]"
   ]
  },
  {
   "cell_type": "code",
   "execution_count": 51,
   "metadata": {},
   "outputs": [],
   "source": [
    "name =[\"3'rd Class\",\"1st Class\",\"2nd Class\"]"
   ]
  },
  {
   "cell_type": "code",
   "execution_count": 52,
   "metadata": {},
   "outputs": [
    {
     "data": {
      "image/png": "[encoded data removed]",
      "text/plain": [
       "<Figure size 432x288 with 1 Axes>"
      ]
     },
     "metadata": {
      "needs_background": "light"
     },
     "output_type": "display_data"
    }
   ],
   "source": [
    "plt.bar(name,value,color =[\"r\",\"g\",\"b\"])\n",
    "plt.grid(True)\n",
    "plt.xlabel(\"Classes\")\n",
    "plt.ylabel(\"Count of different classes\")\n",
    "plt.show()"
   ]
  },
  {
   "cell_type": "code",
   "execution_count": 53,
   "metadata": {},
   "outputs": [
    {
     "name": "stderr",
     "output_type": "stream",
     "text": [
      "D:\\Anaconda\\lib\\site-packages\\seaborn\\_decorators.py:36: FutureWarning: Pass the following variables as keyword args: x, y. From version 0.12, the only valid positional argument will be `data`, and passing other arguments without an explicit keyword will result in an error or misinterpretation.\n",
      "  warnings.warn(\n"
     ]
    },
    {
     "data": {
      "image/png": "[encoded data removed]",
      "text/plain": [
       "<Figure size 432x288 with 1 Axes>"
      ]
     },
     "metadata": {
      "needs_background": "light"
     },
     "output_type": "display_data"
    }
   ],
   "source": [
    "sns.barplot(name,value)\n",
    "plt.grid(True)\n",
    "plt.show()"
   ]
  },
  {
   "cell_type": "code",
   "execution_count": 55,
   "metadata": {},
   "outputs": [
    {
     "data": {
      "image/png": "[encoded data removed]",
      "text/plain": [
       "<Figure size 432x288 with 1 Axes>"
      ]
     },
     "metadata": {
      "needs_background": "light"
     },
     "output_type": "display_data"
    }
   ],
   "source": [
    "sns.countplot(x = \"Pclass\",data=df)\n",
    "plt.show()"
   ]
  },
  {
   "cell_type": "markdown",
   "metadata": {},
   "source": [
    "# 15.How many passengers are survived with class wise and show in Bar graph"
   ]
  },
  {
   "cell_type": "code",
   "execution_count": 56,
   "metadata": {},
   "outputs": [
    {
     "data": {
      "image/png": "[encoded data removed]",
      "text/plain": [
       "<Figure size 432x288 with 1 Axes>"
      ]
     },
     "metadata": {
      "needs_background": "light"
     },
     "output_type": "display_data"
    }
   ],
   "source": [
    "sns.countplot(x=\"Pclass\", hue=\"Survived\",data=df[df.Survived==1])\n",
    "plt.show()"
   ]
  },
  {
   "cell_type": "code",
   "execution_count": 8,
   "metadata": {},
   "outputs": [
    {
     "data": {
      "text/plain": [
       "1    136\n",
       "3    119\n",
       "2     87\n",
       "Name: Pclass, dtype: int64"
      ]
     },
     "execution_count": 8,
     "metadata": {},
     "output_type": "execute_result"
    }
   ],
   "source": [
    "df[df.Survived==1].Pclass.value_counts()"
   ]
  },
  {
   "cell_type": "markdown",
   "metadata": {},
   "source": [
    "# 16 . Show Question-13 & Question-14 , 15 and 16 in subplot"
   ]
  },
  {
   "cell_type": "code",
   "execution_count": 32,
   "metadata": {},
   "outputs": [
    {
     "data": {
      "image/png": "[encoded data removed]",
      "text/plain": [
       "<Figure size 1080x576 with 4 Axes>"
      ]
     },
     "metadata": {
      "needs_background": "light"
     },
     "output_type": "display_data"
    }
   ],
   "source": [
    "fig,axs = plt.subplots(2,2,figsize=(15,8))\n",
    "\n",
    "sns.countplot(x=\"Pclass\", hue=\"Sex\",data=df[df.Survived==1],ax=axs[0][0])\n",
    "axs[0][0].set_title(\"Survived passenger with Gender and Class Wise\")\n",
    "\n",
    "sns.countplot(x =\"Pclass\",data=df,ax=axs[0][1])\n",
    "axs[0][1].set_title(\"All Passengers with Class wise\")\n",
    "\n",
    "sns.countplot(x=\"Pclass\", hue=\"Survived\",data=df,ax=axs[1][0])\n",
    "axs[1][0].grid(True)\n",
    "axs[1][0].set_title(\"Survived Passengers with Class wise\")\n",
    "\n",
    "\n",
    "t = df[(df[\"Sex\"]==\"male\") & (df[\"Age\"]>40)].Survived.value_counts()\n",
    "\n",
    "axs[1][1].pie(t,colors=[\"green\",\"red\"],labels=[\"Survived\",\"Not Survived\"],autopct = \"%0.2f%%\",\n",
    "             shadow=True,explode=(0,0.1))\n",
    "axs[1][1].set_title(\"Passenger is female and her age is below 30\")\n",
    "axs[1][1].legend(loc=\"lower left\")\n",
    "\n",
    "plt.show()"
   ]
  },
  {
   "cell_type": "markdown",
   "metadata": {},
   "source": [
    "# 17:Show Bar graph for Survived with 3rd class male, 1st class female"
   ]
  },
  {
   "cell_type": "code",
   "execution_count": 12,
   "metadata": {},
   "outputs": [
    {
     "data": {
      "text/plain": [
       "female    72\n",
       "male      47\n",
       "Name: Sex, dtype: int64"
      ]
     },
     "execution_count": 12,
     "metadata": {},
     "output_type": "execute_result"
    }
   ],
   "source": [
    "df[(df.Survived==1) & (df.Pclass==3)].Sex.value_counts()"
   ]
  },
  {
   "cell_type": "code",
   "execution_count": 13,
   "metadata": {},
   "outputs": [
    {
     "data": {
      "text/plain": [
       "female    91\n",
       "male      45\n",
       "Name: Sex, dtype: int64"
      ]
     },
     "execution_count": 13,
     "metadata": {},
     "output_type": "execute_result"
    }
   ],
   "source": [
    "df[(df.Survived==1) & (df.Pclass==1)].Sex.value_counts()"
   ]
  },
  {
   "cell_type": "code",
   "execution_count": 14,
   "metadata": {},
   "outputs": [
    {
     "name": "stdout",
     "output_type": "stream",
     "text": [
      "After analysis, i found 3rd class Male are survived:47 out of 119 passengers and 1st class female survived: 91 out of 136 passengers\n"
     ]
    }
   ],
   "source": [
    "print(\"After analysis, i found 3rd class Male are survived:%d out of 119 passengers and 1st class female survived: %d out of 136 passengers\"%(47,91))"
   ]
  },
  {
   "cell_type": "code",
   "execution_count": 18,
   "metadata": {},
   "outputs": [
    {
     "data": {
      "image/png": "[encoded data removed]",
      "text/plain": [
       "<Figure size 432x288 with 1 Axes>"
      ]
     },
     "metadata": {
      "needs_background": "light"
     },
     "output_type": "display_data"
    }
   ],
   "source": [
    "sns.countplot(x =\"Pclass\",hue=\"Sex\",data = df[df.Survived==1])\n",
    "plt.grid(True)\n",
    "plt.show()"
   ]
  },
  {
   "cell_type": "markdown",
   "metadata": {},
   "source": [
    "# 18: How many passengers are survived / not survived and they are 1st class female"
   ]
  },
  {
   "cell_type": "code",
   "execution_count": 26,
   "metadata": {},
   "outputs": [
    {
     "data": {
      "text/html": [
       "<style  type=\"text/css\" >\n",
       "#T_9ff2261a_ed27_11eb_99da_3c970e159519row0_col0,#T_9ff2261a_ed27_11eb_99da_3c970e159519row1_col1,#T_9ff2261a_ed27_11eb_99da_3c970e159519row1_col2,#T_9ff2261a_ed27_11eb_99da_3c970e159519row1_col3{\n",
       "            background-color:  #ffff66;\n",
       "            color:  #000000;\n",
       "        }#T_9ff2261a_ed27_11eb_99da_3c970e159519row0_col1{\n",
       "            background-color:  #e5f266;\n",
       "            color:  #000000;\n",
       "        }#T_9ff2261a_ed27_11eb_99da_3c970e159519row0_col2{\n",
       "            background-color:  #51a866;\n",
       "            color:  #000000;\n",
       "        }#T_9ff2261a_ed27_11eb_99da_3c970e159519row0_col3{\n",
       "            background-color:  #9fcf66;\n",
       "            color:  #000000;\n",
       "        }#T_9ff2261a_ed27_11eb_99da_3c970e159519row1_col0{\n",
       "            background-color:  #96cb66;\n",
       "            color:  #000000;\n",
       "        }#T_9ff2261a_ed27_11eb_99da_3c970e159519row2_col0,#T_9ff2261a_ed27_11eb_99da_3c970e159519row2_col1,#T_9ff2261a_ed27_11eb_99da_3c970e159519row2_col2,#T_9ff2261a_ed27_11eb_99da_3c970e159519row2_col3{\n",
       "            background-color:  #008066;\n",
       "            color:  #f1f1f1;\n",
       "        }</style><table id=\"T_9ff2261a_ed27_11eb_99da_3c970e159519\" ><thead>    <tr>        <th class=\"index_name level0\" >Pclass</th>        <th class=\"col_heading level0 col0\" >1</th>        <th class=\"col_heading level0 col1\" >2</th>        <th class=\"col_heading level0 col2\" >3</th>        <th class=\"col_heading level0 col3\" >All</th>    </tr>    <tr>        <th class=\"index_name level0\" >Survived</th>        <th class=\"blank\" ></th>        <th class=\"blank\" ></th>        <th class=\"blank\" ></th>        <th class=\"blank\" ></th>    </tr></thead><tbody>\n",
       "                <tr>\n",
       "                        <th id=\"T_9ff2261a_ed27_11eb_99da_3c970e159519level0_row0\" class=\"row_heading level0 row0\" >0</th>\n",
       "                        <td id=\"T_9ff2261a_ed27_11eb_99da_3c970e159519row0_col0\" class=\"data row0 col0\" >80</td>\n",
       "                        <td id=\"T_9ff2261a_ed27_11eb_99da_3c970e159519row0_col1\" class=\"data row0 col1\" >97</td>\n",
       "                        <td id=\"T_9ff2261a_ed27_11eb_99da_3c970e159519row0_col2\" class=\"data row0 col2\" >372</td>\n",
       "                        <td id=\"T_9ff2261a_ed27_11eb_99da_3c970e159519row0_col3\" class=\"data row0 col3\" >549</td>\n",
       "            </tr>\n",
       "            <tr>\n",
       "                        <th id=\"T_9ff2261a_ed27_11eb_99da_3c970e159519level0_row1\" class=\"row_heading level0 row1\" >1</th>\n",
       "                        <td id=\"T_9ff2261a_ed27_11eb_99da_3c970e159519row1_col0\" class=\"data row1 col0\" >136</td>\n",
       "                        <td id=\"T_9ff2261a_ed27_11eb_99da_3c970e159519row1_col1\" class=\"data row1 col1\" >87</td>\n",
       "                        <td id=\"T_9ff2261a_ed27_11eb_99da_3c970e159519row1_col2\" class=\"data row1 col2\" >119</td>\n",
       "                        <td id=\"T_9ff2261a_ed27_11eb_99da_3c970e159519row1_col3\" class=\"data row1 col3\" >342</td>\n",
       "            </tr>\n",
       "            <tr>\n",
       "                        <th id=\"T_9ff2261a_ed27_11eb_99da_3c970e159519level0_row2\" class=\"row_heading level0 row2\" >All</th>\n",
       "                        <td id=\"T_9ff2261a_ed27_11eb_99da_3c970e159519row2_col0\" class=\"data row2 col0\" >216</td>\n",
       "                        <td id=\"T_9ff2261a_ed27_11eb_99da_3c970e159519row2_col1\" class=\"data row2 col1\" >184</td>\n",
       "                        <td id=\"T_9ff2261a_ed27_11eb_99da_3c970e159519row2_col2\" class=\"data row2 col2\" >491</td>\n",
       "                        <td id=\"T_9ff2261a_ed27_11eb_99da_3c970e159519row2_col3\" class=\"data row2 col3\" >891</td>\n",
       "            </tr>\n",
       "    </tbody></table>"
      ],
      "text/plain": [
       "<pandas.io.formats.style.Styler at 0x19f17b6fd30>"
      ]
     },
     "execution_count": 26,
     "metadata": {},
     "output_type": "execute_result"
    }
   ],
   "source": [
    "pd.crosstab(df[\"Survived\"],df[\"Pclass\"],margins=True).style.background_gradient(cmap=\"summer_r\")"
   ]
  },
  {
   "cell_type": "code",
   "execution_count": 27,
   "metadata": {},
   "outputs": [
    {
     "data": {
      "text/html": [
       "<style  type=\"text/css\" >\n",
       "#T_90b73cf0_ed28_11eb_9ebd_3c970e159519row0_col0,#T_90b73cf0_ed28_11eb_9ebd_3c970e159519row0_col1,#T_90b73cf0_ed28_11eb_9ebd_3c970e159519row0_col3,#T_90b73cf0_ed28_11eb_9ebd_3c970e159519row3_col2{\n",
       "            background-color:  #b40426;\n",
       "            color:  #f1f1f1;\n",
       "        }#T_90b73cf0_ed28_11eb_9ebd_3c970e159519row0_col2,#T_90b73cf0_ed28_11eb_9ebd_3c970e159519row1_col2{\n",
       "            background-color:  #c83836;\n",
       "            color:  #f1f1f1;\n",
       "        }#T_90b73cf0_ed28_11eb_9ebd_3c970e159519row1_col0{\n",
       "            background-color:  #f0cdbb;\n",
       "            color:  #000000;\n",
       "        }#T_90b73cf0_ed28_11eb_9ebd_3c970e159519row1_col1{\n",
       "            background-color:  #f5c0a7;\n",
       "            color:  #000000;\n",
       "        }#T_90b73cf0_ed28_11eb_9ebd_3c970e159519row1_col3{\n",
       "            background-color:  #ec7f63;\n",
       "            color:  #000000;\n",
       "        }#T_90b73cf0_ed28_11eb_9ebd_3c970e159519row2_col0{\n",
       "            background-color:  #f7bca1;\n",
       "            color:  #000000;\n",
       "        }#T_90b73cf0_ed28_11eb_9ebd_3c970e159519row2_col1,#T_90b73cf0_ed28_11eb_9ebd_3c970e159519row2_col3{\n",
       "            background-color:  #e2dad5;\n",
       "            color:  #000000;\n",
       "        }#T_90b73cf0_ed28_11eb_9ebd_3c970e159519row2_col2{\n",
       "            background-color:  #cad8ef;\n",
       "            color:  #000000;\n",
       "        }#T_90b73cf0_ed28_11eb_9ebd_3c970e159519row3_col0{\n",
       "            background-color:  #ed8366;\n",
       "            color:  #000000;\n",
       "        }#T_90b73cf0_ed28_11eb_9ebd_3c970e159519row3_col1{\n",
       "            background-color:  #ca3b37;\n",
       "            color:  #f1f1f1;\n",
       "        }#T_90b73cf0_ed28_11eb_9ebd_3c970e159519row3_col3{\n",
       "            background-color:  #c0282f;\n",
       "            color:  #f1f1f1;\n",
       "        }#T_90b73cf0_ed28_11eb_9ebd_3c970e159519row4_col0,#T_90b73cf0_ed28_11eb_9ebd_3c970e159519row4_col1,#T_90b73cf0_ed28_11eb_9ebd_3c970e159519row4_col2,#T_90b73cf0_ed28_11eb_9ebd_3c970e159519row4_col3{\n",
       "            background-color:  #3b4cc0;\n",
       "            color:  #f1f1f1;\n",
       "        }</style><table id=\"T_90b73cf0_ed28_11eb_9ebd_3c970e159519\" ><thead>    <tr>        <th class=\"blank\" ></th>        <th class=\"index_name level0\" >Pclass</th>        <th class=\"col_heading level0 col0\" >1</th>        <th class=\"col_heading level0 col1\" >2</th>        <th class=\"col_heading level0 col2\" >3</th>        <th class=\"col_heading level0 col3\" >All</th>    </tr>    <tr>        <th class=\"index_name level0\" >Sex</th>        <th class=\"index_name level1\" >Survived</th>        <th class=\"blank\" ></th>        <th class=\"blank\" ></th>        <th class=\"blank\" ></th>        <th class=\"blank\" ></th>    </tr></thead><tbody>\n",
       "                <tr>\n",
       "                        <th id=\"T_90b73cf0_ed28_11eb_9ebd_3c970e159519level0_row0\" class=\"row_heading level0 row0\" rowspan=2>female</th>\n",
       "                        <th id=\"T_90b73cf0_ed28_11eb_9ebd_3c970e159519level1_row0\" class=\"row_heading level1 row0\" >0</th>\n",
       "                        <td id=\"T_90b73cf0_ed28_11eb_9ebd_3c970e159519row0_col0\" class=\"data row0 col0\" >3</td>\n",
       "                        <td id=\"T_90b73cf0_ed28_11eb_9ebd_3c970e159519row0_col1\" class=\"data row0 col1\" >6</td>\n",
       "                        <td id=\"T_90b73cf0_ed28_11eb_9ebd_3c970e159519row0_col2\" class=\"data row0 col2\" >72</td>\n",
       "                        <td id=\"T_90b73cf0_ed28_11eb_9ebd_3c970e159519row0_col3\" class=\"data row0 col3\" >81</td>\n",
       "            </tr>\n",
       "            <tr>\n",
       "                                <th id=\"T_90b73cf0_ed28_11eb_9ebd_3c970e159519level1_row1\" class=\"row_heading level1 row1\" >1</th>\n",
       "                        <td id=\"T_90b73cf0_ed28_11eb_9ebd_3c970e159519row1_col0\" class=\"data row1 col0\" >91</td>\n",
       "                        <td id=\"T_90b73cf0_ed28_11eb_9ebd_3c970e159519row1_col1\" class=\"data row1 col1\" >70</td>\n",
       "                        <td id=\"T_90b73cf0_ed28_11eb_9ebd_3c970e159519row1_col2\" class=\"data row1 col2\" >72</td>\n",
       "                        <td id=\"T_90b73cf0_ed28_11eb_9ebd_3c970e159519row1_col3\" class=\"data row1 col3\" >233</td>\n",
       "            </tr>\n",
       "            <tr>\n",
       "                        <th id=\"T_90b73cf0_ed28_11eb_9ebd_3c970e159519level0_row2\" class=\"row_heading level0 row2\" rowspan=2>male</th>\n",
       "                        <th id=\"T_90b73cf0_ed28_11eb_9ebd_3c970e159519level1_row2\" class=\"row_heading level1 row2\" >0</th>\n",
       "                        <td id=\"T_90b73cf0_ed28_11eb_9ebd_3c970e159519row2_col0\" class=\"data row2 col0\" >77</td>\n",
       "                        <td id=\"T_90b73cf0_ed28_11eb_9ebd_3c970e159519row2_col1\" class=\"data row2 col1\" >91</td>\n",
       "                        <td id=\"T_90b73cf0_ed28_11eb_9ebd_3c970e159519row2_col2\" class=\"data row2 col2\" >300</td>\n",
       "                        <td id=\"T_90b73cf0_ed28_11eb_9ebd_3c970e159519row2_col3\" class=\"data row2 col3\" >468</td>\n",
       "            </tr>\n",
       "            <tr>\n",
       "                                <th id=\"T_90b73cf0_ed28_11eb_9ebd_3c970e159519level1_row3\" class=\"row_heading level1 row3\" >1</th>\n",
       "                        <td id=\"T_90b73cf0_ed28_11eb_9ebd_3c970e159519row3_col0\" class=\"data row3 col0\" >45</td>\n",
       "                        <td id=\"T_90b73cf0_ed28_11eb_9ebd_3c970e159519row3_col1\" class=\"data row3 col1\" >17</td>\n",
       "                        <td id=\"T_90b73cf0_ed28_11eb_9ebd_3c970e159519row3_col2\" class=\"data row3 col2\" >47</td>\n",
       "                        <td id=\"T_90b73cf0_ed28_11eb_9ebd_3c970e159519row3_col3\" class=\"data row3 col3\" >109</td>\n",
       "            </tr>\n",
       "            <tr>\n",
       "                        <th id=\"T_90b73cf0_ed28_11eb_9ebd_3c970e159519level0_row4\" class=\"row_heading level0 row4\" >All</th>\n",
       "                        <th id=\"T_90b73cf0_ed28_11eb_9ebd_3c970e159519level1_row4\" class=\"row_heading level1 row4\" ></th>\n",
       "                        <td id=\"T_90b73cf0_ed28_11eb_9ebd_3c970e159519row4_col0\" class=\"data row4 col0\" >216</td>\n",
       "                        <td id=\"T_90b73cf0_ed28_11eb_9ebd_3c970e159519row4_col1\" class=\"data row4 col1\" >184</td>\n",
       "                        <td id=\"T_90b73cf0_ed28_11eb_9ebd_3c970e159519row4_col2\" class=\"data row4 col2\" >491</td>\n",
       "                        <td id=\"T_90b73cf0_ed28_11eb_9ebd_3c970e159519row4_col3\" class=\"data row4 col3\" >891</td>\n",
       "            </tr>\n",
       "    </tbody></table>"
      ],
      "text/plain": [
       "<pandas.io.formats.style.Styler at 0x19f17a4fac0>"
      ]
     },
     "execution_count": 27,
     "metadata": {},
     "output_type": "execute_result"
    }
   ],
   "source": [
    "pd.crosstab([df[\"Sex\"],df[\"Survived\"]],df[\"Pclass\"],margins=True).style.background_gradient(cmap=\"coolwarm_r\")"
   ]
  },
  {
   "cell_type": "code",
   "execution_count": 28,
   "metadata": {},
   "outputs": [
    {
     "data": {
      "text/html": [
       "<style  type=\"text/css\" >\n",
       "#T_c5e254de_ed28_11eb_821f_3c970e159519row0_col0,#T_c5e254de_ed28_11eb_821f_3c970e159519row0_col1,#T_c5e254de_ed28_11eb_821f_3c970e159519row0_col2,#T_c5e254de_ed28_11eb_821f_3c970e159519row0_col3{\n",
       "            background-color:  #ffff66;\n",
       "            color:  #000000;\n",
       "        }#T_c5e254de_ed28_11eb_821f_3c970e159519row1_col0{\n",
       "            background-color:  #c5e266;\n",
       "            color:  #000000;\n",
       "        }#T_c5e254de_ed28_11eb_821f_3c970e159519row1_col1{\n",
       "            background-color:  #b4da66;\n",
       "            color:  #000000;\n",
       "        }#T_c5e254de_ed28_11eb_821f_3c970e159519row1_col2{\n",
       "            background-color:  #6ab466;\n",
       "            color:  #000000;\n",
       "        }#T_c5e254de_ed28_11eb_821f_3c970e159519row1_col3{\n",
       "            background-color:  #8bc566;\n",
       "            color:  #000000;\n",
       "        }#T_c5e254de_ed28_11eb_821f_3c970e159519row2_col0,#T_c5e254de_ed28_11eb_821f_3c970e159519row2_col1,#T_c5e254de_ed28_11eb_821f_3c970e159519row2_col2,#T_c5e254de_ed28_11eb_821f_3c970e159519row2_col3{\n",
       "            background-color:  #008066;\n",
       "            color:  #f1f1f1;\n",
       "        }</style><table id=\"T_c5e254de_ed28_11eb_821f_3c970e159519\" ><thead>    <tr>        <th class=\"index_name level0\" >Pclass</th>        <th class=\"col_heading level0 col0\" >1</th>        <th class=\"col_heading level0 col1\" >2</th>        <th class=\"col_heading level0 col2\" >3</th>        <th class=\"col_heading level0 col3\" >All</th>    </tr>    <tr>        <th class=\"index_name level0\" >Sex</th>        <th class=\"blank\" ></th>        <th class=\"blank\" ></th>        <th class=\"blank\" ></th>        <th class=\"blank\" ></th>    </tr></thead><tbody>\n",
       "                <tr>\n",
       "                        <th id=\"T_c5e254de_ed28_11eb_821f_3c970e159519level0_row0\" class=\"row_heading level0 row0\" >female</th>\n",
       "                        <td id=\"T_c5e254de_ed28_11eb_821f_3c970e159519row0_col0\" class=\"data row0 col0\" >94</td>\n",
       "                        <td id=\"T_c5e254de_ed28_11eb_821f_3c970e159519row0_col1\" class=\"data row0 col1\" >76</td>\n",
       "                        <td id=\"T_c5e254de_ed28_11eb_821f_3c970e159519row0_col2\" class=\"data row0 col2\" >144</td>\n",
       "                        <td id=\"T_c5e254de_ed28_11eb_821f_3c970e159519row0_col3\" class=\"data row0 col3\" >314</td>\n",
       "            </tr>\n",
       "            <tr>\n",
       "                        <th id=\"T_c5e254de_ed28_11eb_821f_3c970e159519level0_row1\" class=\"row_heading level0 row1\" >male</th>\n",
       "                        <td id=\"T_c5e254de_ed28_11eb_821f_3c970e159519row1_col0\" class=\"data row1 col0\" >122</td>\n",
       "                        <td id=\"T_c5e254de_ed28_11eb_821f_3c970e159519row1_col1\" class=\"data row1 col1\" >108</td>\n",
       "                        <td id=\"T_c5e254de_ed28_11eb_821f_3c970e159519row1_col2\" class=\"data row1 col2\" >347</td>\n",
       "                        <td id=\"T_c5e254de_ed28_11eb_821f_3c970e159519row1_col3\" class=\"data row1 col3\" >577</td>\n",
       "            </tr>\n",
       "            <tr>\n",
       "                        <th id=\"T_c5e254de_ed28_11eb_821f_3c970e159519level0_row2\" class=\"row_heading level0 row2\" >All</th>\n",
       "                        <td id=\"T_c5e254de_ed28_11eb_821f_3c970e159519row2_col0\" class=\"data row2 col0\" >216</td>\n",
       "                        <td id=\"T_c5e254de_ed28_11eb_821f_3c970e159519row2_col1\" class=\"data row2 col1\" >184</td>\n",
       "                        <td id=\"T_c5e254de_ed28_11eb_821f_3c970e159519row2_col2\" class=\"data row2 col2\" >491</td>\n",
       "                        <td id=\"T_c5e254de_ed28_11eb_821f_3c970e159519row2_col3\" class=\"data row2 col3\" >891</td>\n",
       "            </tr>\n",
       "    </tbody></table>"
      ],
      "text/plain": [
       "<pandas.io.formats.style.Styler at 0x19f18096250>"
      ]
     },
     "execution_count": 28,
     "metadata": {},
     "output_type": "execute_result"
    }
   ],
   "source": [
    "pd.crosstab(df[\"Sex\"],df[\"Pclass\"],margins=True).style.background_gradient(cmap=\"summer_r\")"
   ]
  },
  {
   "cell_type": "markdown",
   "metadata": {},
   "source": [
    "# 20:Find Null values"
   ]
  },
  {
   "cell_type": "code",
   "execution_count": null,
   "metadata": {},
   "outputs": [],
   "source": [
    "df.isnull()"
   ]
  },
  {
   "cell_type": "markdown",
   "metadata": {},
   "source": [
    "# 21 :Replace Null value to Median value"
   ]
  },
  {
   "cell_type": "code",
   "execution_count": null,
   "metadata": {},
   "outputs": [],
   "source": []
  },
  {
   "cell_type": "markdown",
   "metadata": {},
   "source": [
    "# 22:Drop unwanted columns"
   ]
  },
  {
   "cell_type": "code",
   "execution_count": null,
   "metadata": {},
   "outputs": [],
   "source": []
  }
 ],
 "metadata": {
  "kernelspec": {
   "display_name": "Python 3",
   "language": "python",
   "name": "python3"
  },
  "language_info": {
   "codemirror_mode": {
    "name": "ipython",
    "version": 3
   },
   "file_extension": ".py",
   "mimetype": "text/x-python",
   "name": "python",
   "nbconvert_exporter": "python",
   "pygments_lexer": "ipython3",
   "version": "3.8.5"
  }
 },
 "nbformat": 4,
 "nbformat_minor": 4
}
